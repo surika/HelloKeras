{
 "cells": [
  {
   "cell_type": "code",
   "execution_count": 4,
   "metadata": {},
   "outputs": [
    {
     "data": {
      "image/png": "[encoded data removed]",
      "text/plain": [
       "<matplotlib.figure.Figure at 0x1d9eac68940>"
      ]
     },
     "metadata": {},
     "output_type": "display_data"
    }
   ],
   "source": [
    "import numpy as np\n",
    "import matplotlib.pyplot as plt\n",
    "from keras.models import Sequential\n",
    "from keras.layers import Dense,Activation\n",
    "from keras.optimizers import SGD\n",
    "\n",
    "X=np.linspace(-1,1,200)\n",
    "np.random.shuffle(X)\n",
    "Y=0.5*X+2+np.random.normal(0,0.05,(200,))\n",
    "plt.scatter(X,Y)\n",
    "plt.show()\n",
    "\n",
    "X_train,Y_train=X[:160],Y[:160]\n",
    "X_test,Y_test=X[160:],Y[160:]\n"
   ]
  },
  {
   "cell_type": "code",
   "execution_count": 16,
   "metadata": {},
   "outputs": [
    {
     "name": "stdout",
     "output_type": "stream",
     "text": [
      "Epoch 1/10\n",
      "160/160 [==============================] - 0s 3ms/step - loss: 3.4083\n",
      "Epoch 2/10\n",
      "160/160 [==============================] - 0s 313us/step - loss: 2.3072\n",
      "Epoch 3/10\n",
      "160/160 [==============================] - 0s 325us/step - loss: 1.5696\n",
      "Epoch 4/10\n",
      "160/160 [==============================] - 0s 363us/step - loss: 1.0734\n",
      "Epoch 5/10\n",
      "160/160 [==============================] - 0s 438us/step - loss: 0.7394\n",
      "Epoch 6/10\n",
      "160/160 [==============================] - 0s 331us/step - loss: 0.5140\n",
      "Epoch 7/10\n",
      "160/160 [==============================] - 0s 356us/step - loss: 0.3606\n",
      "Epoch 8/10\n",
      "160/160 [==============================] - 0s 294us/step - loss: 0.2562\n",
      "Epoch 9/10\n",
      "160/160 [==============================] - 0s 313us/step - loss: 0.1847\n",
      "Epoch 10/10\n",
      "160/160 [==============================] - 0s 363us/step - loss: 0.1354\n"
     ]
    },
    {
     "data": {
      "text/plain": [
       "<keras.callbacks.History at 0x1d9ecaeb908>"
      ]
     },
     "execution_count": 16,
     "metadata": {},
     "output_type": "execute_result"
    }
   ],
   "source": [
    "model=Sequential()\n",
    "model.add(Dense(input_dim=1,units=1))\n",
    "#model.add(Activation(\"relu\"))\n",
    "#model.add(Dense(units=10))\n",
    "#model.add(Activation(\"softmax\"))\n",
    "\n",
    "model.compile(loss='mse',optimizer='sgd')\n",
    "model.fit(X_train,Y_train,epochs=10,batch_size=16)\n"
   ]
  },
  {
   "cell_type": "code",
   "execution_count": 12,
   "metadata": {},
   "outputs": [
    {
     "name": "stdout",
     "output_type": "stream",
     "text": [
      "40/40 [==============================] - 0s 75us/step\n",
      "test cost 1.434180736541748\n",
      "Weight= [[0.31300217]] \n",
      "biases= [0.7912619]\n"
     ]
    }
   ],
   "source": [
    "cost=model.evaluate(X_test,Y_test,batch_size=40)\n",
    "print(\"test cost\",cost)\n",
    "W,b=model.layers[0].get_weights()\n",
    "print(\"Weight=\",W,\"\\nbiases=\",b)"
   ]
  },
  {
   "cell_type": "code",
   "execution_count": 18,
   "metadata": {},
   "outputs": [
    {
     "name": "stdout",
     "output_type": "stream",
     "text": [
      "[4 6]\n",
      "[3 7]\n"
     ]
    }
   ],
   "source": [
    "a=np.array([[1,2],[3,4]])\n",
    "sum0=np.sum(a,axis=0)\n",
    "sum1=np.sum(a,axis=1)\n",
    "print(sum0)\n",
    "print (sum1)"
   ]
  },
  {
   "cell_type": "code",
   "execution_count": null,
   "metadata": {
    "collapsed": true
   },
   "outputs": [],
   "source": []
  }
 ],
 "metadata": {
  "kernelspec": {
   "display_name": "Python 3",
   "language": "python",
   "name": "python3"
  },
  "language_info": {
   "codemirror_mode": {
    "name": "ipython",
    "version": 3
   },
   "file_extension": ".py",
   "mimetype": "text/x-python",
   "name": "python",
   "nbconvert_exporter": "python",
   "pygments_lexer": "ipython3",
   "version": "3.6.2"
  }
 },
 "nbformat": 4,
 "nbformat_minor": 2
}

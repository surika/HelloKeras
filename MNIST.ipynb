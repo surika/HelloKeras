{
 "cells": [
  {
   "cell_type": "code",
   "execution_count": 20,
   "metadata": {},
   "outputs": [],
   "source": [
    "'''\n",
    "根据以下博客编写，第一次上手keras，MNIST就算是hello world啦~\n",
    "http://nooverfit.com/wp/keras-手把手入门1-手写数字识别-深度学习实战/#more-2354\n",
    "'''\n",
    "\n",
    "from keras.datasets import mnist\n",
    "from keras.models import Sequential\n",
    "from keras.layers import Dense,Dropout,Flatten\n",
    "from keras.layers import Conv2D,MaxPooling2D\n",
    "from keras import backend as K\n",
    "import numpy as np"
   ]
  },
  {
   "cell_type": "code",
   "execution_count": 21,
   "metadata": {},
   "outputs": [
    {
     "name": "stdout",
     "output_type": "stream",
     "text": [
      "[[[0 0 0 ... 0 0 0]\n",
      "  [0 0 0 ... 0 0 0]\n",
      "  [0 0 0 ... 0 0 0]\n",
      "  ...\n",
      "  [0 0 0 ... 0 0 0]\n",
      "  [0 0 0 ... 0 0 0]\n",
      "  [0 0 0 ... 0 0 0]]\n",
      "\n",
      " [[0 0 0 ... 0 0 0]\n",
      "  [0 0 0 ... 0 0 0]\n",
      "  [0 0 0 ... 0 0 0]\n",
      "  ...\n",
      "  [0 0 0 ... 0 0 0]\n",
      "  [0 0 0 ... 0 0 0]\n",
      "  [0 0 0 ... 0 0 0]]\n",
      "\n",
      " [[0 0 0 ... 0 0 0]\n",
      "  [0 0 0 ... 0 0 0]\n",
      "  [0 0 0 ... 0 0 0]\n",
      "  ...\n",
      "  [0 0 0 ... 0 0 0]\n",
      "  [0 0 0 ... 0 0 0]\n",
      "  [0 0 0 ... 0 0 0]]\n",
      "\n",
      " ...\n",
      "\n",
      " [[0 0 0 ... 0 0 0]\n",
      "  [0 0 0 ... 0 0 0]\n",
      "  [0 0 0 ... 0 0 0]\n",
      "  ...\n",
      "  [0 0 0 ... 0 0 0]\n",
      "  [0 0 0 ... 0 0 0]\n",
      "  [0 0 0 ... 0 0 0]]\n",
      "\n",
      " [[0 0 0 ... 0 0 0]\n",
      "  [0 0 0 ... 0 0 0]\n",
      "  [0 0 0 ... 0 0 0]\n",
      "  ...\n",
      "  [0 0 0 ... 0 0 0]\n",
      "  [0 0 0 ... 0 0 0]\n",
      "  [0 0 0 ... 0 0 0]]\n",
      "\n",
      " [[0 0 0 ... 0 0 0]\n",
      "  [0 0 0 ... 0 0 0]\n",
      "  [0 0 0 ... 0 0 0]\n",
      "  ...\n",
      "  [0 0 0 ... 0 0 0]\n",
      "  [0 0 0 ... 0 0 0]\n",
      "  [0 0 0 ... 0 0 0]]]\n"
     ]
    }
   ],
   "source": [
    "batch_size=128\n",
    "num_classes=10\n",
    "epochs=12\n",
    "\n",
    "img_rows,img_cols=28,28\n",
    "#(x_train,y_train),(x_test,y_test)=mnist.load_data()\n",
    "path='mnist.npz'\n",
    "f = np.load(path)  \n",
    "x_train, y_train = f['x_train'], f['y_train']  \n",
    "x_test, y_test = f['x_test'], f['y_test'] \n",
    "print(x_train)\n",
    "\n",
    "if K.image_data_format()=='channels_first':\n",
    "    x_train=x_train.reshape(x_train.shape[0],1,img_rows,img_cols)\n",
    "    x_test=x_test.reshape(x_test.shape[0],1,img_rows,img_cols)\n",
    "    input_shape=(1,img_rows,img_cols)\n",
    "else:\n",
    "    x_train=x_train.reshape(x_train.shape[0],img_rows,img_cols,1)\n",
    "    x_test=x_test.reshape(x_test.shape[0],img_rows,img_cols,1)\n",
    "    input_shape=(img_rows,img_cols,1)"
   ]
  },
  {
   "cell_type": "code",
   "execution_count": 22,
   "metadata": {},
   "outputs": [
    {
     "name": "stdout",
     "output_type": "stream",
     "text": [
      "x_train shape: (60000, 28, 28, 1)\n",
      "60000 train sampeles\n",
      "10000 test samples\n"
     ]
    }
   ],
   "source": [
    "#把数据变成float32更精确\n",
    "x_train=x_train.astype('float32')\n",
    "x_test=x_test.astype('float32')\n",
    "x_train/=255\n",
    "x_test/=255\n",
    "print('x_train shape:',x_train.shape)\n",
    "print(x_train.shape[0],'train sampeles')\n",
    "print(x_test.shape[0],'test samples')\n",
    "\n",
    "import keras\n",
    "#把类别0-9变成二进制，方便训练\n",
    "y_train=keras.utils.np_utils.to_categorical(y_train,num_classes)\n",
    "y_test=keras.utils.np_utils.to_categorical(y_test,num_classes)"
   ]
  },
  {
   "cell_type": "code",
   "execution_count": null,
   "metadata": {},
   "outputs": [],
   "source": []
  },
  {
   "cell_type": "code",
   "execution_count": 25,
   "metadata": {},
   "outputs": [
    {
     "name": "stderr",
     "output_type": "stream",
     "text": [
      "C:\\Users\\dell\\Anaconda3\\lib\\site-packages\\ipykernel_launcher.py:7: UserWarning: Update your `Conv2D` call to the Keras 2 API: `Conv2D(32, (3, 3), activation=\"relu\", input_shape=(28, 28, 1...)`\n",
      "  import sys\n",
      "C:\\Users\\dell\\Anaconda3\\lib\\site-packages\\ipykernel_launcher.py:8: UserWarning: Update your `Conv2D` call to the Keras 2 API: `Conv2D(64, (3, 3), activation=\"relu\")`\n",
      "  \n"
     ]
    },
    {
     "name": "stdout",
     "output_type": "stream",
     "text": [
      "Train on 60000 samples, validate on 10000 samples\n",
      "Epoch 1/12\n",
      "60000/60000 [==============================] - 196s 3ms/step - loss: 0.2754 - acc: 0.9145 - val_loss: 0.0659 - val_acc: 0.9798\n",
      "Epoch 2/12\n",
      "60000/60000 [==============================] - 181s 3ms/step - loss: 0.0908 - acc: 0.9726 - val_loss: 0.0414 - val_acc: 0.9862\n",
      "Epoch 3/12\n",
      "60000/60000 [==============================] - 181s 3ms/step - loss: 0.0695 - acc: 0.9794 - val_loss: 0.0354 - val_acc: 0.9878\n",
      "Epoch 4/12\n",
      "60000/60000 [==============================] - 181s 3ms/step - loss: 0.0574 - acc: 0.9824 - val_loss: 0.0329 - val_acc: 0.9885\n",
      "Epoch 5/12\n",
      "60000/60000 [==============================] - 182s 3ms/step - loss: 0.0506 - acc: 0.9852 - val_loss: 0.0353 - val_acc: 0.9878\n",
      "Epoch 6/12\n",
      "60000/60000 [==============================] - 181s 3ms/step - loss: 0.0440 - acc: 0.9864 - val_loss: 0.0309 - val_acc: 0.9901\n",
      "Epoch 7/12\n",
      "60000/60000 [==============================] - 186s 3ms/step - loss: 0.0411 - acc: 0.9875 - val_loss: 0.0331 - val_acc: 0.9888\n",
      "Epoch 8/12\n",
      "60000/60000 [==============================] - 182s 3ms/step - loss: 0.0381 - acc: 0.9884 - val_loss: 0.0299 - val_acc: 0.9903\n",
      "Epoch 9/12\n",
      "60000/60000 [==============================] - 182s 3ms/step - loss: 0.0346 - acc: 0.9893 - val_loss: 0.0299 - val_acc: 0.9903\n",
      "Epoch 10/12\n",
      "60000/60000 [==============================] - 182s 3ms/step - loss: 0.0349 - acc: 0.9897 - val_loss: 0.0268 - val_acc: 0.9917\n",
      "Epoch 11/12\n",
      "60000/60000 [==============================] - 182s 3ms/step - loss: 0.0321 - acc: 0.9901 - val_loss: 0.0289 - val_acc: 0.9915\n",
      "Epoch 12/12\n",
      "60000/60000 [==============================] - 183s 3ms/step - loss: 0.0315 - acc: 0.9901 - val_loss: 0.0276 - val_acc: 0.9914\n",
      "Test loss: 0.027591868069152953\n",
      "Test accuracy: 0.9914\n"
     ]
    }
   ],
   "source": [
    "#构造训练CNN\n",
    "model=Sequential()\n",
    "model.add(Conv2D(32,\n",
    "                 activation='relu',\n",
    "                 input_shape=input_shape,\n",
    "                 nb_row=3,\n",
    "                 nb_col=3))\n",
    "model.add(Conv2D(64,activation='relu',nb_row=3,nb_col=3))\n",
    "model.add(MaxPooling2D(pool_size=(2,2)))\n",
    "model.add(Dropout(0.35))\n",
    "model.add(Flatten())\n",
    "model.add(Dense(128,activation='relu'))\n",
    "model.add(Dropout(0.5))\n",
    "model.add(Dense(num_classes,activation='softmax'))\n",
    "\n",
    "model.compile(loss=keras.metrics.categorical_crossentropy,\n",
    "             optimizer=keras.optimizers.Adadelta(),\n",
    "             metrics=['accuracy'])\n",
    "\n",
    "model.fit(x_train,\n",
    "          y_train,\n",
    "          batch_size=batch_size,\n",
    "          epochs=epochs,\n",
    "          verbose=1,\n",
    "          validation_data=(x_test,y_test))\n",
    "\n",
    "score=model.evaluate(x_test,y_test,verbose=0)\n",
    "print('Test loss:',score[0])\n",
    "print('Test accuracy:',score[1])"
   ]
  },
  {
   "cell_type": "code",
   "execution_count": null,
   "metadata": {
    "collapsed": true
   },
   "outputs": [],
   "source": []
  }
 ],
 "metadata": {
  "kernelspec": {
   "display_name": "Python 3",
   "language": "python",
   "name": "python3"
  },
  "language_info": {
   "codemirror_mode": {
    "name": "ipython",
    "version": 3
   },
   "file_extension": ".py",
   "mimetype": "text/x-python",
   "name": "python",
   "nbconvert_exporter": "python",
   "pygments_lexer": "ipython3",
   "version": "3.6.2"
  }
 },
 "nbformat": 4,
 "nbformat_minor": 2
}
